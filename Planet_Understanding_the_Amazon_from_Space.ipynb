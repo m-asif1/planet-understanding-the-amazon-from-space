{
  "cells": [
    {
      "cell_type": "code",
      "execution_count": null,
      "metadata": {
        "id": "EucCCGUXz_Mm"
      },
      "outputs": [],
      "source": [
        "#install kaggle\n",
        "#!pip install kaggle"
      ]
    },
    {
      "cell_type": "code",
      "execution_count": null,
      "metadata": {
        "colab": {
          "base_uri": "https://localhost:8080/"
        },
        "id": "cTzbGEyz0XPM",
        "outputId": "c479c3e2-28b1-43dc-d9e8-b6933d6077c8"
      },
      "outputs": [
        {
          "name": "stdout",
          "output_type": "stream",
          "text": [
            "mkdir: cannot create directory ‘.kaggle’: File exists\n"
          ]
        }
      ],
      "source": [
        "!mkdir .kaggle"
      ]
    },
    {
      "cell_type": "code",
      "execution_count": null,
      "metadata": {
        "id": "OnUZDWwM0ZBy"
      },
      "outputs": [],
      "source": [
        "import json\n",
        "token = {\"username\":\"xxx\",\"key\":\"xxxx\"}\n",
        "with open('/content/kaggle/kaggle.json', 'w') as file:\n",
        "    json.dump(token, file)"
      ]
    },
    {
      "cell_type": "code",
      "execution_count": null,
      "metadata": {
        "id": "8UeVlhso0yp4"
      },
      "outputs": [],
      "source": [
        "!cp /content/kaggle/kaggle.json ~/.kaggle/kaggle.json"
      ]
    },
    {
      "cell_type": "code",
      "execution_count": null,
      "metadata": {
        "colab": {
          "base_uri": "https://localhost:8080/"
        },
        "id": "ARpVCege01uA",
        "outputId": "44465106-5416-4596-e3d3-9a4e10a9bb91"
      },
      "outputs": [
        {
          "name": "stdout",
          "output_type": "stream",
          "text": [
            "Warning: Your Kaggle API key is readable by other users on this system! To fix this, you can run 'chmod 600 /root/.kaggle/kaggle.json'\n",
            "- path is now set to: {/content/}\n"
          ]
        }
      ],
      "source": [
        "!kaggle config set -n path -v{/content/}"
      ]
    },
    {
      "cell_type": "code",
      "execution_count": null,
      "metadata": {
        "id": "2eK78FVh05Qo"
      },
      "outputs": [],
      "source": [
        "!chmod 600 /root/.kaggle/kaggle.json   "
      ]
    },
    {
      "cell_type": "code",
      "execution_count": null,
      "metadata": {
        "colab": {
          "base_uri": "https://localhost:8080/"
        },
        "id": "PQurofI_08lJ",
        "outputId": "53358655-777b-403f-da29-83c9baec4b90"
      },
      "outputs": [
        {
          "name": "stdout",
          "output_type": "stream",
          "text": [
            "ref                                               title                                             size  lastUpdated          downloadCount  voteCount  usabilityRating  \n",
            "------------------------------------------------  -----------------------------------------------  -----  -------------------  -------------  ---------  ---------------  \n",
            "emirhanai/planets-and-moons-dataset-ai-in-space   Planets and Moons Dataset - AI in Space 🌌 🛰 ☄ 🔭   46MB  2023-03-15 04:45:03            497         37  1.0              \n",
            "mrisdal/open-exoplanet-catalogue                  Open Exoplanet Catalogue                         123KB  2017-06-08 19:59:22           3828        169  0.8235294        \n",
            "eduardowoj/exoplanets-database                    Exoplanets Database                              281KB  2018-02-28 20:56:05           1484         58  0.8235294        \n",
            "iamsouravbanerjee/planet-dataset                  Planet Dataset                                    996B  2022-10-05 12:17:23           1799         72  1.0              \n",
            "nasa/kepler-exoplanet-search-results              Kepler Exoplanet Search Results                    1MB  2017-10-10 18:26:59          12089        706  0.8235294        \n",
            "adityamishraml/nasaexoplanets                     NASA Exoplanets                                  114KB  2023-02-15 18:12:58           1217         43  1.0              \n",
            "aradzhabov/earthquakes-solar-system-objects       Earthquakes <-?-> Solar System objects?            2MB  2017-04-22 21:42:59           1276         37  0.8235294        \n",
            "keplersmachines/kepler-labelled-time-series-data  Exoplanet Hunting in Deep Space                   56MB  2017-04-12 16:34:18          11429        530  0.8235294        \n",
            "ramjasmaurya/near-earth-objects-observed-by-nasa  Near earth objects observed by NASA(1900-2021)   934KB  2022-01-21 06:05:06            172         35  1.0              \n",
            "brsdincer/space-objects-around-black-holes-esa    Space Objects Around Black Holes / ESA           994MB  2021-07-03 22:50:01            142         14  0.875            \n",
            "scoleman/spacex-launch-data                       SpaceX Launch Data                                 2KB  2018-06-14 03:01:05           2067         62  0.7058824        \n",
            "muhakabartay/markmarkohkeplerconfirmedplanets     Kepler Confirmed Planets                         521KB  2019-12-26 20:08:20            381         22  0.88235295       \n",
            "codebreaker619/mars-crater-study-dataset          Mars Crater Study Dataset                          4MB  2021-01-11 06:25:49            263         28  0.9411765        \n",
            "imsanketsingh/all-planets-dataset                 All Planets Dataset                               18KB  2022-11-22 18:07:26             37          1  0.7058824        \n",
            "ilyamarchenko/full-exoplanet-catalog              Exoplanets confirmed & candidates                809KB  2021-04-29 13:17:01            269         11  0.8235294        \n",
            "mpwolke/cusersmarildownloadseormandycsv           Eugene Ormandy                                    462B  2021-06-18 20:35:25             21         20  1.0              \n",
            "taiworoqeeb/kaggleinputplanetsdataset             kaggle/input/planets-dataset                       7MB  2020-09-17 22:18:52              3          1  0.3125           \n",
            "arashnic/exoplanets                               NASA Exoplanet Dataset                             1MB  2022-06-21 15:54:15            115          9  0.9705882        \n",
            "arashnic/planets                                  NASA Kepler Objects Dataset                        1MB  2020-12-30 22:19:43            105         10  0.9117647        \n",
            "jaredsavage/solar-system-major-bodies-data        Solar System major bodies data                    22KB  2022-07-07 11:49:16            631         20  1.0              \n"
          ]
        }
      ],
      "source": [
        "#search for the dataset \n",
        "!kaggle datasets list -s planets-dataset"
      ]
    },
    {
      "cell_type": "code",
      "execution_count": null,
      "metadata": {
        "colab": {
          "base_uri": "https://localhost:8080/"
        },
        "id": "KWLhYHel1KNA",
        "outputId": "90849f1f-c4bd-4e98-ccfa-f2853757cfdf"
      },
      "outputs": [
        {
          "name": "stdout",
          "output_type": "stream",
          "text": [
            "Downloading planets-dataset.zip to /content\n",
            "100% 1.50G/1.50G [01:26<00:00, 20.4MB/s]\n",
            "100% 1.50G/1.50G [01:26<00:00, 18.5MB/s]\n"
          ]
        }
      ],
      "source": [
        "#download dataset\n",
        "!kaggle datasets download -d nikitarom/planets-dataset -p /content/"
      ]
    },
    {
      "cell_type": "code",
      "execution_count": null,
      "metadata": {
        "id": "ekTO8p661PGn"
      },
      "outputs": [],
      "source": [
        "#unzip the dataset\n",
        "%%capture\n",
        "!unzip \\*.zip"
      ]
    },
    {
      "cell_type": "code",
      "execution_count": null,
      "metadata": {
        "colab": {
          "base_uri": "https://localhost:8080/",
          "height": 17
        },
        "id": "VEwMY_as2LrF",
        "outputId": "f4382a35-1155-4229-9ca5-3c95607c304b"
      },
      "outputs": [
        {
          "data": {
            "text/html": [
              "        <script type=\"text/javascript\">\n",
              "        window.PlotlyConfig = {MathJaxConfig: 'local'};\n",
              "        if (window.MathJax && window.MathJax.Hub && window.MathJax.Hub.Config) {window.MathJax.Hub.Config({SVG: {font: \"STIX-Web\"}});}\n",
              "        if (typeof require !== 'undefined') {\n",
              "        require.undef(\"plotly\");\n",
              "        requirejs.config({\n",
              "            paths: {\n",
              "                'plotly': ['https://cdn.plot.ly/plotly-2.18.2.min']\n",
              "            }\n",
              "        });\n",
              "        require(['plotly'], function(Plotly) {\n",
              "            window._Plotly = Plotly;\n",
              "        });\n",
              "        }\n",
              "        </script>\n",
              "        "
            ]
          },
          "metadata": {},
          "output_type": "display_data"
        }
      ],
      "source": [
        "#Import necessary libraries\n",
        "import numpy as np # linear algebra\n",
        "import pandas as pd # data processing, CSV file I/O (e.g. pd.read_csv)\n",
        "import os\n",
        "import gc\n",
        "import matplotlib.pyplot as plt\n",
        "import seaborn as sns\n",
        "from tensorflow.keras.preprocessing.image import load_img, img_to_array\n",
        "from sklearn.metrics import fbeta_score\n",
        "from tqdm import tqdm\n",
        "import cv2\n",
        "from PIL import Image\n",
        "from tensorflow import keras\n",
        "from keras.models import Sequential\n",
        "from keras.layers import Dense, Dropout, Flatten\n",
        "from keras.layers import Conv2D, MaxPooling2D, BatchNormalization\n",
        "from keras.callbacks import EarlyStopping, ModelCheckpoint\n",
        "from keras import optimizers\n",
        "\n",
        "from sklearn.model_selection import KFold, train_test_split\n",
        "from sklearn.metrics import fbeta_score\n",
        "import time\n",
        "%matplotlib inline\n",
        "\n",
        "pal = sns.color_palette()\n",
        "\n",
        "import plotly.offline as py\n",
        "py.init_notebook_mode(connected=True)\n",
        "import plotly.graph_objs as go\n",
        "import plotly.tools as tls\n",
        "     "
      ]
    },
    {
      "cell_type": "code",
      "execution_count": null,
      "metadata": {
        "colab": {
          "base_uri": "https://localhost:8080/"
        },
        "id": "g8tXRkQJ2U2E",
        "outputId": "273360e1-af54-4055-8091-595be6913f95"
      },
      "outputs": [
        {
          "name": "stdout",
          "output_type": "stream",
          "text": [
            "/content\n"
          ]
        }
      ],
      "source": [
        "#check present working directory\n",
        "! pwd"
      ]
    },
    {
      "cell_type": "code",
      "execution_count": null,
      "metadata": {
        "colab": {
          "base_uri": "https://localhost:8080/",
          "height": 206
        },
        "id": "-pU-CPZE2WCs",
        "outputId": "3f9d91e8-791c-4d3e-dec9-5bee1215a231"
      },
      "outputs": [
        {
          "data": {
            "text/html": [
              "\n",
              "  <div id=\"df-0ccf3a4f-5b20-49f5-819f-811f3d97867f\">\n",
              "    <div class=\"colab-df-container\">\n",
              "      <div>\n",
              "<style scoped>\n",
              "    .dataframe tbody tr th:only-of-type {\n",
              "        vertical-align: middle;\n",
              "    }\n",
              "\n",
              "    .dataframe tbody tr th {\n",
              "        vertical-align: top;\n",
              "    }\n",
              "\n",
              "    .dataframe thead th {\n",
              "        text-align: right;\n",
              "    }\n",
              "</style>\n",
              "<table border=\"1\" class=\"dataframe\">\n",
              "  <thead>\n",
              "    <tr style=\"text-align: right;\">\n",
              "      <th></th>\n",
              "      <th>image_name</th>\n",
              "      <th>tags</th>\n",
              "    </tr>\n",
              "  </thead>\n",
              "  <tbody>\n",
              "    <tr>\n",
              "      <th>0</th>\n",
              "      <td>train_0</td>\n",
              "      <td>haze primary</td>\n",
              "    </tr>\n",
              "    <tr>\n",
              "      <th>1</th>\n",
              "      <td>train_1</td>\n",
              "      <td>agriculture clear primary water</td>\n",
              "    </tr>\n",
              "    <tr>\n",
              "      <th>2</th>\n",
              "      <td>train_2</td>\n",
              "      <td>clear primary</td>\n",
              "    </tr>\n",
              "    <tr>\n",
              "      <th>3</th>\n",
              "      <td>train_3</td>\n",
              "      <td>clear primary</td>\n",
              "    </tr>\n",
              "    <tr>\n",
              "      <th>4</th>\n",
              "      <td>train_4</td>\n",
              "      <td>agriculture clear habitation primary road</td>\n",
              "    </tr>\n",
              "  </tbody>\n",
              "</table>\n",
              "</div>\n",
              "      <button class=\"colab-df-convert\" onclick=\"convertToInteractive('df-0ccf3a4f-5b20-49f5-819f-811f3d97867f')\"\n",
              "              title=\"Convert this dataframe to an interactive table.\"\n",
              "              style=\"display:none;\">\n",
              "        \n",
              "  <svg xmlns=\"http://www.w3.org/2000/svg\" height=\"24px\"viewBox=\"0 0 24 24\"\n",
              "       width=\"24px\">\n",
              "    <path d=\"M0 0h24v24H0V0z\" fill=\"none\"/>\n",
              "    <path d=\"M18.56 5.44l.94 2.06.94-2.06 2.06-.94-2.06-.94-.94-2.06-.94 2.06-2.06.94zm-11 1L8.5 8.5l.94-2.06 2.06-.94-2.06-.94L8.5 2.5l-.94 2.06-2.06.94zm10 10l.94 2.06.94-2.06 2.06-.94-2.06-.94-.94-2.06-.94 2.06-2.06.94z\"/><path d=\"M17.41 7.96l-1.37-1.37c-.4-.4-.92-.59-1.43-.59-.52 0-1.04.2-1.43.59L10.3 9.45l-7.72 7.72c-.78.78-.78 2.05 0 2.83L4 21.41c.39.39.9.59 1.41.59.51 0 1.02-.2 1.41-.59l7.78-7.78 2.81-2.81c.8-.78.8-2.07 0-2.86zM5.41 20L4 18.59l7.72-7.72 1.47 1.35L5.41 20z\"/>\n",
              "  </svg>\n",
              "      </button>\n",
              "      \n",
              "  <style>\n",
              "    .colab-df-container {\n",
              "      display:flex;\n",
              "      flex-wrap:wrap;\n",
              "      gap: 12px;\n",
              "    }\n",
              "\n",
              "    .colab-df-convert {\n",
              "      background-color: #E8F0FE;\n",
              "      border: none;\n",
              "      border-radius: 50%;\n",
              "      cursor: pointer;\n",
              "      display: none;\n",
              "      fill: #1967D2;\n",
              "      height: 32px;\n",
              "      padding: 0 0 0 0;\n",
              "      width: 32px;\n",
              "    }\n",
              "\n",
              "    .colab-df-convert:hover {\n",
              "      background-color: #E2EBFA;\n",
              "      box-shadow: 0px 1px 2px rgba(60, 64, 67, 0.3), 0px 1px 3px 1px rgba(60, 64, 67, 0.15);\n",
              "      fill: #174EA6;\n",
              "    }\n",
              "\n",
              "    [theme=dark] .colab-df-convert {\n",
              "      background-color: #3B4455;\n",
              "      fill: #D2E3FC;\n",
              "    }\n",
              "\n",
              "    [theme=dark] .colab-df-convert:hover {\n",
              "      background-color: #434B5C;\n",
              "      box-shadow: 0px 1px 3px 1px rgba(0, 0, 0, 0.15);\n",
              "      filter: drop-shadow(0px 1px 2px rgba(0, 0, 0, 0.3));\n",
              "      fill: #FFFFFF;\n",
              "    }\n",
              "  </style>\n",
              "\n",
              "      <script>\n",
              "        const buttonEl =\n",
              "          document.querySelector('#df-0ccf3a4f-5b20-49f5-819f-811f3d97867f button.colab-df-convert');\n",
              "        buttonEl.style.display =\n",
              "          google.colab.kernel.accessAllowed ? 'block' : 'none';\n",
              "\n",
              "        async function convertToInteractive(key) {\n",
              "          const element = document.querySelector('#df-0ccf3a4f-5b20-49f5-819f-811f3d97867f');\n",
              "          const dataTable =\n",
              "            await google.colab.kernel.invokeFunction('convertToInteractive',\n",
              "                                                     [key], {});\n",
              "          if (!dataTable) return;\n",
              "\n",
              "          const docLinkHtml = 'Like what you see? Visit the ' +\n",
              "            '<a target=\"_blank\" href=https://colab.research.google.com/notebooks/data_table.ipynb>data table notebook</a>'\n",
              "            + ' to learn more about interactive tables.';\n",
              "          element.innerHTML = '';\n",
              "          dataTable['output_type'] = 'display_data';\n",
              "          await google.colab.output.renderOutput(dataTable, element);\n",
              "          const docLink = document.createElement('div');\n",
              "          docLink.innerHTML = docLinkHtml;\n",
              "          element.appendChild(docLink);\n",
              "        }\n",
              "      </script>\n",
              "    </div>\n",
              "  </div>\n",
              "  "
            ],
            "text/plain": [
              "  image_name                                       tags\n",
              "0    train_0                               haze primary\n",
              "1    train_1            agriculture clear primary water\n",
              "2    train_2                              clear primary\n",
              "3    train_3                              clear primary\n",
              "4    train_4  agriculture clear habitation primary road"
            ]
          },
          "execution_count": 11,
          "metadata": {},
          "output_type": "execute_result"
        }
      ],
      "source": [
        "#read the train classes csv file and save a copy\n",
        "df_train_classes= pd.read_csv('/content/planet/planet/train_classes.csv')\n",
        "df_train = df_train_classes.copy()\n",
        "df_train.head()"
      ]
    },
    {
      "cell_type": "code",
      "execution_count": null,
      "metadata": {
        "colab": {
          "base_uri": "https://localhost:8080/",
          "height": 206
        },
        "id": "buwVSyHi2bwb",
        "outputId": "a2c5dc9e-d58d-4bb8-e844-63842f069860"
      },
      "outputs": [
        {
          "data": {
            "text/html": [
              "\n",
              "  <div id=\"df-581ac324-6917-43a2-9359-4f29ca4961dc\">\n",
              "    <div class=\"colab-df-container\">\n",
              "      <div>\n",
              "<style scoped>\n",
              "    .dataframe tbody tr th:only-of-type {\n",
              "        vertical-align: middle;\n",
              "    }\n",
              "\n",
              "    .dataframe tbody tr th {\n",
              "        vertical-align: top;\n",
              "    }\n",
              "\n",
              "    .dataframe thead th {\n",
              "        text-align: right;\n",
              "    }\n",
              "</style>\n",
              "<table border=\"1\" class=\"dataframe\">\n",
              "  <thead>\n",
              "    <tr style=\"text-align: right;\">\n",
              "      <th></th>\n",
              "      <th>image_name</th>\n",
              "      <th>tags</th>\n",
              "    </tr>\n",
              "  </thead>\n",
              "  <tbody>\n",
              "    <tr>\n",
              "      <th>0</th>\n",
              "      <td>test_0</td>\n",
              "      <td>primary clear agriculture road water</td>\n",
              "    </tr>\n",
              "    <tr>\n",
              "      <th>1</th>\n",
              "      <td>test_1</td>\n",
              "      <td>primary clear agriculture road water</td>\n",
              "    </tr>\n",
              "    <tr>\n",
              "      <th>2</th>\n",
              "      <td>test_2</td>\n",
              "      <td>primary clear agriculture road water</td>\n",
              "    </tr>\n",
              "    <tr>\n",
              "      <th>3</th>\n",
              "      <td>test_3</td>\n",
              "      <td>primary clear agriculture road water</td>\n",
              "    </tr>\n",
              "    <tr>\n",
              "      <th>4</th>\n",
              "      <td>test_4</td>\n",
              "      <td>primary clear agriculture road water</td>\n",
              "    </tr>\n",
              "  </tbody>\n",
              "</table>\n",
              "</div>\n",
              "      <button class=\"colab-df-convert\" onclick=\"convertToInteractive('df-581ac324-6917-43a2-9359-4f29ca4961dc')\"\n",
              "              title=\"Convert this dataframe to an interactive table.\"\n",
              "              style=\"display:none;\">\n",
              "        \n",
              "  <svg xmlns=\"http://www.w3.org/2000/svg\" height=\"24px\"viewBox=\"0 0 24 24\"\n",
              "       width=\"24px\">\n",
              "    <path d=\"M0 0h24v24H0V0z\" fill=\"none\"/>\n",
              "    <path d=\"M18.56 5.44l.94 2.06.94-2.06 2.06-.94-2.06-.94-.94-2.06-.94 2.06-2.06.94zm-11 1L8.5 8.5l.94-2.06 2.06-.94-2.06-.94L8.5 2.5l-.94 2.06-2.06.94zm10 10l.94 2.06.94-2.06 2.06-.94-2.06-.94-.94-2.06-.94 2.06-2.06.94z\"/><path d=\"M17.41 7.96l-1.37-1.37c-.4-.4-.92-.59-1.43-.59-.52 0-1.04.2-1.43.59L10.3 9.45l-7.72 7.72c-.78.78-.78 2.05 0 2.83L4 21.41c.39.39.9.59 1.41.59.51 0 1.02-.2 1.41-.59l7.78-7.78 2.81-2.81c.8-.78.8-2.07 0-2.86zM5.41 20L4 18.59l7.72-7.72 1.47 1.35L5.41 20z\"/>\n",
              "  </svg>\n",
              "      </button>\n",
              "      \n",
              "  <style>\n",
              "    .colab-df-container {\n",
              "      display:flex;\n",
              "      flex-wrap:wrap;\n",
              "      gap: 12px;\n",
              "    }\n",
              "\n",
              "    .colab-df-convert {\n",
              "      background-color: #E8F0FE;\n",
              "      border: none;\n",
              "      border-radius: 50%;\n",
              "      cursor: pointer;\n",
              "      display: none;\n",
              "      fill: #1967D2;\n",
              "      height: 32px;\n",
              "      padding: 0 0 0 0;\n",
              "      width: 32px;\n",
              "    }\n",
              "\n",
              "    .colab-df-convert:hover {\n",
              "      background-color: #E2EBFA;\n",
              "      box-shadow: 0px 1px 2px rgba(60, 64, 67, 0.3), 0px 1px 3px 1px rgba(60, 64, 67, 0.15);\n",
              "      fill: #174EA6;\n",
              "    }\n",
              "\n",
              "    [theme=dark] .colab-df-convert {\n",
              "      background-color: #3B4455;\n",
              "      fill: #D2E3FC;\n",
              "    }\n",
              "\n",
              "    [theme=dark] .colab-df-convert:hover {\n",
              "      background-color: #434B5C;\n",
              "      box-shadow: 0px 1px 3px 1px rgba(0, 0, 0, 0.15);\n",
              "      filter: drop-shadow(0px 1px 2px rgba(0, 0, 0, 0.3));\n",
              "      fill: #FFFFFF;\n",
              "    }\n",
              "  </style>\n",
              "\n",
              "      <script>\n",
              "        const buttonEl =\n",
              "          document.querySelector('#df-581ac324-6917-43a2-9359-4f29ca4961dc button.colab-df-convert');\n",
              "        buttonEl.style.display =\n",
              "          google.colab.kernel.accessAllowed ? 'block' : 'none';\n",
              "\n",
              "        async function convertToInteractive(key) {\n",
              "          const element = document.querySelector('#df-581ac324-6917-43a2-9359-4f29ca4961dc');\n",
              "          const dataTable =\n",
              "            await google.colab.kernel.invokeFunction('convertToInteractive',\n",
              "                                                     [key], {});\n",
              "          if (!dataTable) return;\n",
              "\n",
              "          const docLinkHtml = 'Like what you see? Visit the ' +\n",
              "            '<a target=\"_blank\" href=https://colab.research.google.com/notebooks/data_table.ipynb>data table notebook</a>'\n",
              "            + ' to learn more about interactive tables.';\n",
              "          element.innerHTML = '';\n",
              "          dataTable['output_type'] = 'display_data';\n",
              "          await google.colab.output.renderOutput(dataTable, element);\n",
              "          const docLink = document.createElement('div');\n",
              "          docLink.innerHTML = docLinkHtml;\n",
              "          element.appendChild(docLink);\n",
              "        }\n",
              "      </script>\n",
              "    </div>\n",
              "  </div>\n",
              "  "
            ],
            "text/plain": [
              "  image_name                                  tags\n",
              "0     test_0  primary clear agriculture road water\n",
              "1     test_1  primary clear agriculture road water\n",
              "2     test_2  primary clear agriculture road water\n",
              "3     test_3  primary clear agriculture road water\n",
              "4     test_4  primary clear agriculture road water"
            ]
          },
          "execution_count": 12,
          "metadata": {},
          "output_type": "execute_result"
        }
      ],
      "source": [
        "#read the sample submission classes csv file and save a copy\n",
        "df_test_classes = pd.read_csv('/content/planet/planet/sample_submission.csv')\n",
        "df_test = df_test_classes.copy()\n",
        "df_test.head()"
      ]
    },
    {
      "cell_type": "code",
      "execution_count": null,
      "metadata": {
        "colab": {
          "base_uri": "https://localhost:8080/"
        },
        "id": "g4OxY1vs2fJ9",
        "outputId": "9448c96a-2eac-4bea-d370-185d1b9e5a92"
      },
      "outputs": [
        {
          "name": "stdout",
          "output_type": "stream",
          "text": [
            "40479\n"
          ]
        }
      ],
      "source": [
        "#total train data points\n",
        "!ls /content/planet/planet/train-jpg | wc -l"
      ]
    },
    {
      "cell_type": "code",
      "execution_count": null,
      "metadata": {
        "id": "5bicdHTL2geN"
      },
      "outputs": [],
      "source": [
        "test1 = !ls /content/planet/planet/test-jpg | wc -l\n",
        "test2 = !ls /content/test-jpg-additional/test-jpg-additional | wc -l\n",
        "assert df_test.shape[0] == float(test1[0])+float(test2[0])"
      ]
    },
    {
      "cell_type": "code",
      "execution_count": null,
      "metadata": {
        "colab": {
          "base_uri": "https://localhost:8080/"
        },
        "id": "ZpMGauGg2knV",
        "outputId": "0ff530a5-2bf6-4f08-ae92-50601afb5b7f"
      },
      "outputs": [
        {
          "data": {
            "text/plain": [
              "['haze',\n",
              " 'primary',\n",
              " 'agriculture',\n",
              " 'clear',\n",
              " 'water',\n",
              " 'habitation',\n",
              " 'road',\n",
              " 'cultivation',\n",
              " 'slash_burn',\n",
              " 'cloudy',\n",
              " 'partly_cloudy',\n",
              " 'conventional_mine',\n",
              " 'bare_ground',\n",
              " 'artisinal_mine',\n",
              " 'blooming',\n",
              " 'selective_logging',\n",
              " 'blow_down']"
            ]
          },
          "execution_count": 15,
          "metadata": {},
          "output_type": "execute_result"
        }
      ],
      "source": [
        "#list of unique labels/tags \n",
        "labels = df_train['tags'].apply(lambda x: x.split(' '))\n",
        "from collections import Counter, defaultdict\n",
        "counts = defaultdict(int)\n",
        "for l in labels:\n",
        "    for l2 in l:\n",
        "        counts[l2] += 1\n",
        "               \n",
        "tag_list=list(counts.keys())\n",
        "tag_list "
      ]
    },
    {
      "cell_type": "code",
      "execution_count": null,
      "metadata": {
        "colab": {
          "base_uri": "https://localhost:8080/"
        },
        "id": "9aalHvxW2oSb",
        "outputId": "8ce0ac96-304f-416a-c92c-5782276e48b2"
      },
      "outputs": [
        {
          "data": {
            "text/plain": [
              "17"
            ]
          },
          "execution_count": 16,
          "metadata": {},
          "output_type": "execute_result"
        }
      ],
      "source": [
        "#total unique labels\n",
        "len(tag_list)"
      ]
    },
    {
      "cell_type": "code",
      "execution_count": null,
      "metadata": {
        "colab": {
          "base_uri": "https://localhost:8080/"
        },
        "id": "NTuwmTLR2rvT",
        "outputId": "017c4e21-ec24-416a-da5e-35ee15b86945"
      },
      "outputs": [
        {
          "data": {
            "text/plain": [
              "{'haze': 0,\n",
              " 'primary': 1,\n",
              " 'agriculture': 2,\n",
              " 'clear': 3,\n",
              " 'water': 4,\n",
              " 'habitation': 5,\n",
              " 'road': 6,\n",
              " 'cultivation': 7,\n",
              " 'slash_burn': 8,\n",
              " 'cloudy': 9,\n",
              " 'partly_cloudy': 10,\n",
              " 'conventional_mine': 11,\n",
              " 'bare_ground': 12,\n",
              " 'artisinal_mine': 13,\n",
              " 'blooming': 14,\n",
              " 'selective_logging': 15,\n",
              " 'blow_down': 16}"
            ]
          },
          "execution_count": 17,
          "metadata": {},
          "output_type": "execute_result"
        }
      ],
      "source": [
        "#assign numerical value to each label using dictionary\n",
        "label_map = {i:j for j, i in enumerate(tag_list)}\n",
        "label_map  "
      ]
    },
    {
      "cell_type": "code",
      "execution_count": null,
      "metadata": {
        "colab": {
          "base_uri": "https://localhost:8080/"
        },
        "id": "b4ZoU-hk2vKD",
        "outputId": "80aeb85f-a9a3-4eb1-8f5d-89be87cbdafd"
      },
      "outputs": [
        {
          "name": "stderr",
          "output_type": "stream",
          "text": [
            "100%|██████████| 40479/40479 [00:54<00:00, 736.10it/s]\n"
          ]
        }
      ],
      "source": [
        "# One hot encode the training labels. Convert the images into pixels and resize them\n",
        "X_train, Y_train = [], []\n",
        "for img, label in tqdm(df_train.values, miniters = 1000):\n",
        "  target = np.zeros(17)\n",
        "  for tag in label.split(' '):\n",
        "    target[label_map[tag]]=1\n",
        "  X_train.append(cv2.resize(cv2.imread('/content/planet/planet/train-jpg/{}.jpg'.format(img)), (64,64)))\n",
        "  Y_train.append(target)"
      ]
    },
    {
      "cell_type": "code",
      "execution_count": null,
      "metadata": {
        "colab": {
          "base_uri": "https://localhost:8080/"
        },
        "id": "UJsHH4l4210i",
        "outputId": "175af67c-3e5f-42fe-a227-8a1994e36167"
      },
      "outputs": [
        {
          "name": "stderr",
          "output_type": "stream",
          "text": [
            "100%|██████████| 40669/40669 [00:51<00:00, 782.81it/s]\n",
            "100%|██████████| 20522/20522 [00:25<00:00, 803.74it/s]\n"
          ]
        }
      ],
      "source": [
        "#convert the test images to pixels and resize them as well\n",
        "X_test=[]\n",
        "for img, label in tqdm(df_test[:40669].values, miniters = 1000):\n",
        "  X_test.append(cv2.resize(cv2.imread('/content/planet/planet/test-jpg/{}.jpg'.format(img)), (64,64)))\n",
        "for img, label in tqdm(df_test[40669:].values, miniters = 1000):\n",
        "  X_test.append(cv2.resize(cv2.imread('/content/test-jpg-additional/test-jpg-additional/{}.jpg'.format(img)), (64,64)))\n",
        "x_test = np.array(X_test, np.float16)/255"
      ]
    },
    {
      "cell_type": "code",
      "execution_count": null,
      "metadata": {
        "colab": {
          "base_uri": "https://localhost:8080/"
        },
        "id": "N-q_X59u3Fjj",
        "outputId": "342ce12a-3e25-44a6-f6f0-331d8ca8ee5e"
      },
      "outputs": [
        {
          "data": {
            "text/plain": [
              "(61191, 40479, 40479)"
            ]
          },
          "execution_count": 20,
          "metadata": {},
          "output_type": "execute_result"
        }
      ],
      "source": [
        "#Confirm the dimensions\n",
        "len(X_test), len(X_train), len(Y_train)"
      ]
    },
    {
      "cell_type": "code",
      "execution_count": null,
      "metadata": {
        "colab": {
          "base_uri": "https://localhost:8080/"
        },
        "id": "YIWF8BlD3KJk",
        "outputId": "b3d02410-6fe5-4826-bbf9-aa92c61fd362"
      },
      "outputs": [
        {
          "data": {
            "text/plain": [
              "351064"
            ]
          },
          "execution_count": 21,
          "metadata": {},
          "output_type": "execute_result"
        }
      ],
      "source": [
        "import sys\n",
        "sys.getsizeof(X_train)"
      ]
    },
    {
      "cell_type": "code",
      "execution_count": null,
      "metadata": {
        "colab": {
          "base_uri": "https://localhost:8080/"
        },
        "id": "oFFB4QDY3nNI",
        "outputId": "0b06ea46-6ef3-49c1-f401-94e6d443d30f"
      },
      "outputs": [
        {
          "name": "stdout",
          "output_type": "stream",
          "text": [
            "(32383, 64, 64, 3) (32383, 17) (8096, 64, 64, 3) (8096, 17)\n"
          ]
        }
      ],
      "source": [
        "#Change lists to numpy arrays and normalize\n",
        "x_train = np.array(X_train, np.float16)/255\n",
        "y_train = np.array(Y_train, np.uint8)\n",
        "\n",
        "x_train, x_val, y_train, y_val = train_test_split(x_train, y_train, test_size = 0.2, shuffle = True, random_state = 1)\n",
        "\n",
        "print(x_train.shape, y_train.shape, x_val.shape, y_val.shape)"
      ]
    },
    {
      "cell_type": "code",
      "execution_count": null,
      "metadata": {
        "id": "wsjoj51V3ogE"
      },
      "outputs": [],
      "source": [
        "#delete X_test, X_train, Y_train to free up space\n",
        "del(X_test, X_train, Y_train)"
      ]
    },
    {
      "cell_type": "code",
      "execution_count": null,
      "metadata": {
        "id": "oGxVRnVO3wfX"
      },
      "outputs": [],
      "source": [
        "#Split the data into 5 folds and train on 4 folds while validating on 1 fold\n",
        "\n",
        "yfull_test = []\n",
        "yfull_train = []\n",
        "X_train_, X_val_, Y_train_, Y_val_ = train_test_split(x_train, y_train, test_size = 0.2, random_state = 1)"
      ]
    },
    {
      "cell_type": "code",
      "execution_count": null,
      "metadata": {
        "colab": {
          "base_uri": "https://localhost:8080/"
        },
        "id": "ahxUeoon3xux",
        "outputId": "3e64c9db-7b89-4bdc-9960-85b5525640a8"
      },
      "outputs": [
        {
          "name": "stdout",
          "output_type": "stream",
          "text": [
            "Downloading data from https://storage.googleapis.com/tensorflow/keras-applications/vgg19/vgg19_weights_tf_dim_ordering_tf_kernels_notop.h5\n",
            "80134624/80134624 [==============================] - 4s 0us/step\n"
          ]
        }
      ],
      "source": [
        "#Build a CNN model\n",
        "from keras.applications.vgg19 import VGG19\n",
        "from keras.applications.vgg16 import VGG16\n",
        "from keras.optimizers import Adam, SGD\n",
        "\n",
        "input_size = 64\n",
        "input_channels = 3\n",
        "batch_size = 128\n",
        "\n",
        "# Add model parameters including dropout, layers and activation function\n",
        "base_model = VGG19(include_top=False,\n",
        "                   weights='imagenet',\n",
        "                   input_shape=(input_size, input_size, input_channels))\n",
        "\n",
        "model = Sequential()\n",
        "model.add(BatchNormalization(input_shape=(input_size, input_size, input_channels)))\n",
        "\n",
        "model.add(base_model)\n",
        "model.add(Flatten())\n",
        "model.add(Dropout(0.5))\n",
        "\n",
        "model.add(Dense(17, activation='sigmoid'))"
      ]
    },
    {
      "cell_type": "code",
      "execution_count": null,
      "metadata": {
        "colab": {
          "base_uri": "https://localhost:8080/"
        },
        "id": "X9MbFSeo35Xp",
        "outputId": "51ac2fce-49d5-4da3-ada4-6f9db82378b9"
      },
      "outputs": [
        {
          "name": "stdout",
          "output_type": "stream",
          "text": [
            "Model: \"sequential\"\n",
            "_________________________________________________________________\n",
            " Layer (type)                Output Shape              Param #   \n",
            "=================================================================\n",
            " batch_normalization (BatchN  (None, 64, 64, 3)        12        \n",
            " ormalization)                                                   \n",
            "                                                                 \n",
            " vgg19 (Functional)          (None, 2, 2, 512)         20024384  \n",
            "                                                                 \n",
            " flatten (Flatten)           (None, 2048)              0         \n",
            "                                                                 \n",
            " dropout (Dropout)           (None, 2048)              0         \n",
            "                                                                 \n",
            " dense (Dense)               (None, 17)                34833     \n",
            "                                                                 \n",
            "=================================================================\n",
            "Total params: 20,059,229\n",
            "Trainable params: 20,059,223\n",
            "Non-trainable params: 6\n",
            "_________________________________________________________________\n"
          ]
        },
        {
          "name": "stderr",
          "output_type": "stream",
          "text": [
            "/usr/local/lib/python3.9/dist-packages/keras/optimizers/optimizer_v2/gradient_descent.py:114: UserWarning:\n",
            "\n",
            "The `lr` argument is deprecated, use `learning_rate` instead.\n",
            "\n"
          ]
        }
      ],
      "source": [
        "# define model training optimizer parameters\n",
        "opt  = SGD(lr=0.1)\n",
        "model.compile(loss='binary_crossentropy',optimizer=opt, metrics=['accuracy'])\n",
        "callbacks = [EarlyStopping(monitor='val_loss', patience=2, verbose=0),\n",
        "                ModelCheckpoint(filepath='weights/best_weights',\n",
        "                                 save_best_only=True,\n",
        "                                 save_weights_only=True)]\n",
        "model.summary()\n"
      ]
    },
    {
      "cell_type": "code",
      "execution_count": null,
      "metadata": {
        "colab": {
          "base_uri": "https://localhost:8080/"
        },
        "id": "voYnC6NR38yX",
        "outputId": "003a6bf7-f5a1-42de-8be9-a43dd3fb7556"
      },
      "outputs": [
        {
          "data": {
            "text/plain": [
              "176"
            ]
          },
          "execution_count": 27,
          "metadata": {},
          "output_type": "execute_result"
        }
      ],
      "source": [
        "gc.collect()"
      ]
    },
    {
      "cell_type": "code",
      "execution_count": null,
      "metadata": {
        "colab": {
          "base_uri": "https://localhost:8080/"
        },
        "id": "cTQK-G5boovr",
        "outputId": "f7307d8f-0aa1-4149-e366-c467af9564e4"
      },
      "outputs": [
        {
          "name": "stdout",
          "output_type": "stream",
          "text": [
            "Epoch 1/10\n",
            "405/405 - 54s - loss: 0.1564 - accuracy: 0.6879 - val_loss: 0.1223 - val_accuracy: 0.7661 - 54s/epoch - 134ms/step\n",
            "Epoch 2/10\n",
            "405/405 - 40s - loss: 0.1163 - accuracy: 0.7026 - val_loss: 0.1123 - val_accuracy: 0.7928 - 40s/epoch - 99ms/step\n",
            "Epoch 3/10\n",
            "405/405 - 44s - loss: 0.1077 - accuracy: 0.7048 - val_loss: 0.1058 - val_accuracy: 0.7880 - 44s/epoch - 108ms/step\n",
            "Epoch 4/10\n",
            "405/405 - 40s - loss: 0.1009 - accuracy: 0.7110 - val_loss: 0.1008 - val_accuracy: 0.7505 - 40s/epoch - 100ms/step\n",
            "Epoch 5/10\n",
            "405/405 - 43s - loss: 0.0961 - accuracy: 0.6875 - val_loss: 0.1006 - val_accuracy: 0.7888 - 43s/epoch - 106ms/step\n",
            "Epoch 6/10\n",
            "405/405 - 40s - loss: 0.0917 - accuracy: 0.6840 - val_loss: 0.0994 - val_accuracy: 0.7079 - 40s/epoch - 100ms/step\n",
            "Epoch 7/10\n",
            "405/405 - 40s - loss: 0.0881 - accuracy: 0.6586 - val_loss: 0.1020 - val_accuracy: 0.7382 - 40s/epoch - 99ms/step\n",
            "Epoch 8/10\n",
            "405/405 - 40s - loss: 0.0848 - accuracy: 0.6546 - val_loss: 0.1084 - val_accuracy: 0.6897 - 40s/epoch - 99ms/step\n"
          ]
        },
        {
          "data": {
            "text/plain": [
              "<keras.callbacks.History at 0x7fe0f98779d0>"
            ]
          },
          "execution_count": 28,
          "metadata": {},
          "output_type": "execute_result"
        }
      ],
      "source": [
        "#Try a combination of epoch lengths and learning rates\n",
        "\n",
        "model.fit(x = X_train_, y= Y_train_, validation_data=(X_val_, Y_val_),batch_size=64,verbose=2, epochs=10,callbacks=callbacks,shuffle=True)\n"
      ]
    },
    {
      "cell_type": "code",
      "execution_count": null,
      "metadata": {
        "colab": {
          "base_uri": "https://localhost:8080/"
        },
        "id": "zaHOTTABquJE",
        "outputId": "2a189b86-a640-4d65-a961-23f4e458ef0f"
      },
      "outputs": [
        {
          "name": "stdout",
          "output_type": "stream",
          "text": [
            "102/102 - 3s - 3s/epoch - 29ms/step\n",
            "0.9118607774585458\n"
          ]
        }
      ],
      "source": [
        "p_val = model.predict(X_val_, batch_size = 64, verbose=2)\n",
        "print(fbeta_score(Y_val_, np.array(p_val) > 0.2, beta=2, average='samples')) #Check the model performance on the validation set\n"
      ]
    },
    {
      "cell_type": "code",
      "execution_count": null,
      "metadata": {
        "colab": {
          "base_uri": "https://localhost:8080/"
        },
        "id": "W6hBwaO28wkx",
        "outputId": "0c0f8a0f-8b20-4c15-8de3-d20c272994a9"
      },
      "outputs": [
        {
          "data": {
            "text/plain": [
              "2267"
            ]
          },
          "execution_count": 30,
          "metadata": {},
          "output_type": "execute_result"
        }
      ],
      "source": [
        "#import and initialise Garbage Collector\n",
        "import gc\n",
        "gc.collect() "
      ]
    },
    {
      "cell_type": "code",
      "execution_count": null,
      "metadata": {
        "id": "NUdmysNbxDEp"
      },
      "outputs": [],
      "source": [
        "#make predictions\n",
        "#predictions = model.predict(x_test, batch_size = 32)\n",
        "#predictions"
      ]
    },
    {
      "cell_type": "code",
      "execution_count": null,
      "metadata": {
        "colab": {
          "base_uri": "https://localhost:8080/",
          "height": 206
        },
        "id": "KQtPIBmawAhW",
        "outputId": "4f4c1614-2907-45dc-ac21-163f3d6cc6ea"
      },
      "outputs": [
        {
          "data": {
            "text/html": [
              "\n",
              "  <div id=\"df-df3dc51a-45bd-4108-a51d-c6c41d5b0c2d\">\n",
              "    <div class=\"colab-df-container\">\n",
              "      <div>\n",
              "<style scoped>\n",
              "    .dataframe tbody tr th:only-of-type {\n",
              "        vertical-align: middle;\n",
              "    }\n",
              "\n",
              "    .dataframe tbody tr th {\n",
              "        vertical-align: top;\n",
              "    }\n",
              "\n",
              "    .dataframe thead th {\n",
              "        text-align: right;\n",
              "    }\n",
              "</style>\n",
              "<table border=\"1\" class=\"dataframe\">\n",
              "  <thead>\n",
              "    <tr style=\"text-align: right;\">\n",
              "      <th></th>\n",
              "      <th>image_name</th>\n",
              "      <th>tags</th>\n",
              "    </tr>\n",
              "  </thead>\n",
              "  <tbody>\n",
              "    <tr>\n",
              "      <th>0</th>\n",
              "      <td>test_0</td>\n",
              "      <td>primary clear agriculture road water</td>\n",
              "    </tr>\n",
              "    <tr>\n",
              "      <th>1</th>\n",
              "      <td>test_1</td>\n",
              "      <td>primary clear agriculture road water</td>\n",
              "    </tr>\n",
              "    <tr>\n",
              "      <th>2</th>\n",
              "      <td>test_2</td>\n",
              "      <td>primary clear agriculture road water</td>\n",
              "    </tr>\n",
              "    <tr>\n",
              "      <th>3</th>\n",
              "      <td>test_3</td>\n",
              "      <td>primary clear agriculture road water</td>\n",
              "    </tr>\n",
              "    <tr>\n",
              "      <th>4</th>\n",
              "      <td>test_4</td>\n",
              "      <td>primary clear agriculture road water</td>\n",
              "    </tr>\n",
              "  </tbody>\n",
              "</table>\n",
              "</div>\n",
              "      <button class=\"colab-df-convert\" onclick=\"convertToInteractive('df-df3dc51a-45bd-4108-a51d-c6c41d5b0c2d')\"\n",
              "              title=\"Convert this dataframe to an interactive table.\"\n",
              "              style=\"display:none;\">\n",
              "        \n",
              "  <svg xmlns=\"http://www.w3.org/2000/svg\" height=\"24px\"viewBox=\"0 0 24 24\"\n",
              "       width=\"24px\">\n",
              "    <path d=\"M0 0h24v24H0V0z\" fill=\"none\"/>\n",
              "    <path d=\"M18.56 5.44l.94 2.06.94-2.06 2.06-.94-2.06-.94-.94-2.06-.94 2.06-2.06.94zm-11 1L8.5 8.5l.94-2.06 2.06-.94-2.06-.94L8.5 2.5l-.94 2.06-2.06.94zm10 10l.94 2.06.94-2.06 2.06-.94-2.06-.94-.94-2.06-.94 2.06-2.06.94z\"/><path d=\"M17.41 7.96l-1.37-1.37c-.4-.4-.92-.59-1.43-.59-.52 0-1.04.2-1.43.59L10.3 9.45l-7.72 7.72c-.78.78-.78 2.05 0 2.83L4 21.41c.39.39.9.59 1.41.59.51 0 1.02-.2 1.41-.59l7.78-7.78 2.81-2.81c.8-.78.8-2.07 0-2.86zM5.41 20L4 18.59l7.72-7.72 1.47 1.35L5.41 20z\"/>\n",
              "  </svg>\n",
              "      </button>\n",
              "      \n",
              "  <style>\n",
              "    .colab-df-container {\n",
              "      display:flex;\n",
              "      flex-wrap:wrap;\n",
              "      gap: 12px;\n",
              "    }\n",
              "\n",
              "    .colab-df-convert {\n",
              "      background-color: #E8F0FE;\n",
              "      border: none;\n",
              "      border-radius: 50%;\n",
              "      cursor: pointer;\n",
              "      display: none;\n",
              "      fill: #1967D2;\n",
              "      height: 32px;\n",
              "      padding: 0 0 0 0;\n",
              "      width: 32px;\n",
              "    }\n",
              "\n",
              "    .colab-df-convert:hover {\n",
              "      background-color: #E2EBFA;\n",
              "      box-shadow: 0px 1px 2px rgba(60, 64, 67, 0.3), 0px 1px 3px 1px rgba(60, 64, 67, 0.15);\n",
              "      fill: #174EA6;\n",
              "    }\n",
              "\n",
              "    [theme=dark] .colab-df-convert {\n",
              "      background-color: #3B4455;\n",
              "      fill: #D2E3FC;\n",
              "    }\n",
              "\n",
              "    [theme=dark] .colab-df-convert:hover {\n",
              "      background-color: #434B5C;\n",
              "      box-shadow: 0px 1px 3px 1px rgba(0, 0, 0, 0.15);\n",
              "      filter: drop-shadow(0px 1px 2px rgba(0, 0, 0, 0.3));\n",
              "      fill: #FFFFFF;\n",
              "    }\n",
              "  </style>\n",
              "\n",
              "      <script>\n",
              "        const buttonEl =\n",
              "          document.querySelector('#df-df3dc51a-45bd-4108-a51d-c6c41d5b0c2d button.colab-df-convert');\n",
              "        buttonEl.style.display =\n",
              "          google.colab.kernel.accessAllowed ? 'block' : 'none';\n",
              "\n",
              "        async function convertToInteractive(key) {\n",
              "          const element = document.querySelector('#df-df3dc51a-45bd-4108-a51d-c6c41d5b0c2d');\n",
              "          const dataTable =\n",
              "            await google.colab.kernel.invokeFunction('convertToInteractive',\n",
              "                                                     [key], {});\n",
              "          if (!dataTable) return;\n",
              "\n",
              "          const docLinkHtml = 'Like what you see? Visit the ' +\n",
              "            '<a target=\"_blank\" href=https://colab.research.google.com/notebooks/data_table.ipynb>data table notebook</a>'\n",
              "            + ' to learn more about interactive tables.';\n",
              "          element.innerHTML = '';\n",
              "          dataTable['output_type'] = 'display_data';\n",
              "          await google.colab.output.renderOutput(dataTable, element);\n",
              "          const docLink = document.createElement('div');\n",
              "          docLink.innerHTML = docLinkHtml;\n",
              "          element.appendChild(docLink);\n",
              "        }\n",
              "      </script>\n",
              "    </div>\n",
              "  </div>\n",
              "  "
            ],
            "text/plain": [
              "  image_name                                  tags\n",
              "0     test_0  primary clear agriculture road water\n",
              "1     test_1  primary clear agriculture road water\n",
              "2     test_2  primary clear agriculture road water\n",
              "3     test_3  primary clear agriculture road water\n",
              "4     test_4  primary clear agriculture road water"
            ]
          },
          "execution_count": 31,
          "metadata": {},
          "output_type": "execute_result"
        }
      ],
      "source": [
        "#Assign the predictions to the tags column of the df_test data frame\n",
        "#df_test['tags'] = preds \n",
        "df_test.to_csv('asif_Submission.csv', index = False) #Export to csv\n",
        "df_test.head()\n",
        "     "
      ]
    },
    {
      "cell_type": "code",
      "execution_count": null,
      "metadata": {
        "colab": {
          "base_uri": "https://localhost:8080/",
          "height": 34
        },
        "id": "-YEz39Z3wByk",
        "outputId": "f51593d5-dac9-4fa8-ff5d-251ebd9e69b8"
      },
      "outputs": [
        {
          "data": {
            "application/javascript": "\n    async function download(id, filename, size) {\n      if (!google.colab.kernel.accessAllowed) {\n        return;\n      }\n      const div = document.createElement('div');\n      const label = document.createElement('label');\n      label.textContent = `Downloading \"${filename}\": `;\n      div.appendChild(label);\n      const progress = document.createElement('progress');\n      progress.max = size;\n      div.appendChild(progress);\n      document.body.appendChild(div);\n\n      const buffers = [];\n      let downloaded = 0;\n\n      const channel = await google.colab.kernel.comms.open(id);\n      // Send a message to notify the kernel that we're ready.\n      channel.send({})\n\n      for await (const message of channel.messages) {\n        // Send a message to notify the kernel that we're ready.\n        channel.send({})\n        if (message.buffers) {\n          for (const buffer of message.buffers) {\n            buffers.push(buffer);\n            downloaded += buffer.byteLength;\n            progress.value = downloaded;\n          }\n        }\n      }\n      const blob = new Blob(buffers, {type: 'application/binary'});\n      const a = document.createElement('a');\n      a.href = window.URL.createObjectURL(blob);\n      a.download = filename;\n      div.appendChild(a);\n      a.click();\n      div.remove();\n    }\n  ",
            "text/plain": [
              "<IPython.core.display.Javascript object>"
            ]
          },
          "metadata": {},
          "output_type": "display_data"
        },
        {
          "data": {
            "application/javascript": "download(\"download_ddb0a4a7-eb03-4f9c-a829-24743a3c4931\", \"asif_Submission.csv\", 2914964)",
            "text/plain": [
              "<IPython.core.display.Javascript object>"
            ]
          },
          "metadata": {},
          "output_type": "display_data"
        }
      ],
      "source": [
        "\n",
        "#download submission file\n",
        "from google.colab import files\n",
        "files.download('asif_Submission.csv')"
      ]
    }
  ],
  "metadata": {
    "accelerator": "GPU",
    "colab": {
      "provenance": []
    },
    "gpuClass": "standard",
    "kernelspec": {
      "display_name": "Python 3",
      "name": "python3"
    },
    "language_info": {
      "name": "python"
    }
  },
  "nbformat": 4,
  "nbformat_minor": 0
}
